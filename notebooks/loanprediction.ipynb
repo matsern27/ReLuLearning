{
 "cells": [
  {
   "cell_type": "code",
   "execution_count": 4,
   "metadata": {},
   "outputs": [],
   "source": [
    "import polars as pl\n",
    "import matplotlib.pyplot as plt\n",
    "import seaborn as sns\n",
    "import numpy as np"
   ]
  },
  {
   "cell_type": "markdown",
   "metadata": {},
   "source": [
    "## Data wash\n"
   ]
  },
  {
   "cell_type": "code",
   "execution_count": null,
   "metadata": {},
   "outputs": [],
   "source": [
    "path = '../data/playground-series-s4e10/train.csv'\n",
    "\n",
    "df = pl.read_csv(path)\n",
    "df.head()\n",
    "new_values = {\n",
    "    'DEBTCONSOLIDATION': 4,\n",
    "    'PERSONAL': 2,\n",
    "    'VENTURE': 0,\n",
    "    'HOMEIMPROVEMENT': 3,\n",
    "    'MEDICAL': 3,\n",
    "    'EDUCATION': 1,\n",
    "    'N': 0,\n",
    "    'Y': 1\n",
    "}\n",
    "\n",
    "\n",
    "df = df.with_columns(pl.col('cb_person_default_on_file').replace(new_values).alias('cb_person_default_on_file'))\n",
    "column_unique = sorted(df['loan_grade'].unique())[::-1]\n",
    "test = {column_unique[i]: int(i) for i in range(len(column_unique))}\n",
    "df = df.with_columns(pl.col('loan_grade').replace(test).cast(pl.Int8, strict=True).alias('loan_grade'))\n",
    "df = df.with_columns(pl.col('cb_person_default_on_file').cast(pl.Int8, strict=True).alias('cb_person_default_on_file'))\n",
    "df = df.filter(pl.col('person_income') <= 2.5*1e5)\n",
    "df = df.with_columns(pl.col('loan_intent').replace(new_values).alias('loan_intent'))\n",
    "df = df.with_columns(pl.col('loan_intent').cast(pl.Int8, strict=True).alias('loan_intent'))\n",
    "df.head()"
   ]
  },
  {
   "cell_type": "code",
   "execution_count": null,
   "metadata": {},
   "outputs": [],
   "source": [
    "print(df['person_home_ownership'].unique())\n",
    "values = df['person_home_ownership'].unique()\n",
    "\n",
    "for val in values:\n",
    "    print(len(df.filter(pl.col(df['person_home_ownership'] == val)).filter(pl.col(df['loan_status'] == 1)))/len(df.filter(pl.col(df['person_home_ownership'] == val))), val)"
   ]
  },
  {
   "cell_type": "code",
   "execution_count": null,
   "metadata": {},
   "outputs": [],
   "source": [
    "# Get unique values from the 'person_home_ownership' column\n",
    "values = df['person_home_ownership'].unique()\n",
    "\n",
    "# Initialize an empty dictionary to store the results\n",
    "ratios_dict = {}\n",
    "\n",
    "# Calculate and store the ratios in the dictionary\n",
    "for val in values:\n",
    "    count_loan_status = len(df.filter(pl.col('person_home_ownership') == val).filter(pl.col('loan_status') == 1))\n",
    "    total_count = len(df.filter(pl.col('person_home_ownership') == val))\n",
    "\n",
    "    # Avoid division by zero\n",
    "    if total_count > 0:\n",
    "        ratio = count_loan_status / total_count\n",
    "        ratios_dict[val] = ratio\n",
    "    else:\n",
    "        ratios_dict[val] = None  # or you can choose to omit this entry\n",
    "\n",
    "# Print the resulting dictionary\n",
    "print(ratios_dict)\n"
   ]
  },
  {
   "cell_type": "code",
   "execution_count": null,
   "metadata": {},
   "outputs": [],
   "source": [
    "new_values_person_home_ownership = {'RENT': 1, 'OTHER':ratios_dict[\"OTHER\"]/ratios_dict['RENT'], 'MORTGAGE': ratios_dict['MORTGAGE']/ratios_dict['RENT'], \n",
    "                                    'OWN': ratios_dict['OWN']/ratios_dict['RENT']}\n",
    "\n",
    "# Define new values as strings\n",
    "new_values_person_home_ownership = {\n",
    "    'RENT': str(1),  # This will convert the integer 1 to a string \"1\"\n",
    "    'OTHER': str(ratios_dict[\"OTHER\"] / ratios_dict['RENT']),\n",
    "    'MORTGAGE': str(ratios_dict['MORTGAGE'] / ratios_dict['RENT']),\n",
    "    'OWN': str(ratios_dict['OWN'] / ratios_dict['RENT'])\n",
    "}\n",
    "\n",
    "# Display the new values\n",
    "print(new_values_person_home_ownership)\n",
    "\n",
    "df = df.with_columns(pl.col('person_home_ownership').replace(new_values_person_home_ownership).cast(pl.Float32))\n",
    "\n",
    "df"
   ]
  },
  {
   "cell_type": "code",
   "execution_count": null,
   "metadata": {},
   "outputs": [],
   "source": [
    "# corelation = np.ones(len(df.columns) -4)\n",
    "\n",
    "nr_colums = df.columns\n",
    "nr_colums.remove('loan_int_rate')\n",
    "nr_colums.remove('id')\n",
    "# nr_colums.remove('person_home_ownership')\n",
    "# nr_colums.remove('loan_intent')\n",
    "nr_colums.remove('person_age')\n",
    "nr_colums.remove('loan_status')\n",
    "nr_colums.remove('cb_person_cred_hist_length')\n",
    "corelation = np.ones(len(nr_colums))\n",
    "for ind in range(len(nr_colums)):\n",
    "\n",
    "    corelation[ind] = df.select(pl.corr('loan_status', nr_colums[ind])).to_numpy()[0][0]\n",
    "\n",
    "\n",
    "sns.heatmap(corelation.reshape(-1,1), annot = True)\n"
   ]
  },
  {
   "cell_type": "code",
   "execution_count": null,
   "metadata": {},
   "outputs": [],
   "source": [
    "# Trying to remove some dim from the input \n",
    "nr_of_colums = len(nr_colums)\n",
    "\n",
    "corr_matrix = np.ones((nr_of_colums, nr_of_colums), dtype='float32')\n",
    "\n",
    "for i in range(nr_of_colums):\n",
    "    print(f'done with {nr_colums[i]}')\n",
    "    for j in range(nr_of_colums):\n",
    "        corr_ft = df.select(pl.corr(nr_colums[i], nr_colums[j]))[0,0]\n",
    "        corr_matrix[i][j] = corr_ft\n",
    "\n",
    "\n",
    "print(corr_matrix.shape)"
   ]
  },
  {
   "cell_type": "code",
   "execution_count": 143,
   "metadata": {},
   "outputs": [],
   "source": [
    "import pandas as pd"
   ]
  },
  {
   "cell_type": "code",
   "execution_count": 144,
   "metadata": {},
   "outputs": [],
   "source": [
    "corr_input_matrix = pd.DataFrame(corr_matrix, columns=nr_colums, index=nr_colums)\n",
    "\n",
    "\n"
   ]
  },
  {
   "cell_type": "code",
   "execution_count": null,
   "metadata": {},
   "outputs": [],
   "source": [
    "sns.heatmap(corr_input_matrix, annot= True)\n",
    "plt.show()"
   ]
  },
  {
   "cell_type": "markdown",
   "metadata": {},
   "source": [
    "## Tree Claddifier and Log"
   ]
  },
  {
   "cell_type": "code",
   "execution_count": 171,
   "metadata": {},
   "outputs": [],
   "source": [
    "from sklearn.tree import DecisionTreeClassifier\n",
    "from sklearn.linear_model import LogisticRegressionCV\n",
    "from sklearn.metrics import accuracy_score\n",
    "from sklearn.model_selection import train_test_split\n",
    "import torch \n",
    "import torch.nn as nn\n",
    "from torch.optim import Adam\n",
    "\n"
   ]
  },
  {
   "cell_type": "code",
   "execution_count": 168,
   "metadata": {},
   "outputs": [],
   "source": [
    "X = df[nr_colums]\n",
    "Y = df['loan_status']\n",
    "X = X.to_numpy()\n",
    "X = torch.tensor(X) \n",
    "Y = torch.tensor(Y)\n",
    "X_train, X_test, Y_train, Y_test = train_test_split(X, Y, test_size=0.2)"
   ]
  },
  {
   "cell_type": "code",
   "execution_count": 305,
   "metadata": {},
   "outputs": [
    {
     "name": "stdout",
     "output_type": "stream",
     "text": [
      "0.9128726403006748\n"
     ]
    }
   ],
   "source": [
    "model_tree = DecisionTreeClassifier()\n",
    "model_tree.fit(X_train, Y_train)\n",
    "Y_pred = model_tree.predict(X_test)\n",
    "print(accuracy_score(Y_pred, Y_test))"
   ]
  },
  {
   "cell_type": "markdown",
   "metadata": {},
   "source": [
    "## MLP network, "
   ]
  },
  {
   "cell_type": "markdown",
   "metadata": {},
   "source": [
    "### the loss function have to be custm because the loss now with just guessing 0 is just to great\n"
   ]
  },
  {
   "cell_type": "markdown",
   "metadata": {},
   "source": [
    "### Todo create a loss function punisch the model if geting 1s wrong, (or creat more 1s and remove 0s) and create the training loop"
   ]
  },
  {
   "cell_type": "code",
   "execution_count": null,
   "metadata": {},
   "outputs": [],
   "source": [
    "device = torch.device('cuda' if torch.cuda.is_available() else 'cpu')\n",
    "print('Using device:', device)\n",
    "print()\n",
    "\n",
    "#Additional Info when using cuda\n",
    "if device.type == 'cuda':\n",
    "    print(torch.cuda.get_device_name(0))\n",
    "    print('Memory Usage:')\n",
    "    print('Allocated:', round(torch.cuda.memory_allocated(0)/1024**3,1), 'GB')\n",
    "    print('Cached:   ', round(torch.cuda.memory_reserved(0)/1024**3,1), 'GB')"
   ]
  },
  {
   "cell_type": "code",
   "execution_count": 302,
   "metadata": {},
   "outputs": [],
   "source": [
    "import torch\n",
    "import torch.nn as nn\n",
    "import torch.optim as optim\n",
    "\n",
    "class MLP(nn.Module):\n",
    "    def __init__(self):\n",
    "        super(MLP, self).__init__()\n",
    "        self.fc1 = nn.Linear(8, 512)\n",
    "        self.fc2 = nn.Linear(512, 256)\n",
    "        self.fc3 = nn.Linear(256,64)\n",
    "        self.fc4 = nn.Linear(64, 1)\n",
    "        self.relu = nn.ReLU()\n",
    "        self.sigmoid = nn.Sigmoid()  \n",
    "\n",
    "    def forward(self, x):\n",
    "        x = self.relu(self.fc1(x))\n",
    "        x = self.relu(self.fc2(x))\n",
    "        x = self.relu(self.fc3(x))\n",
    "        x = self.sigmoid(self.fc4(x))  \n",
    "        return x  \n",
    "        \n",
    "\n",
    "model = MLP()\n",
    "\n",
    "\n",
    "\n",
    "\n",
    "\n",
    "criterion = nn.BCELoss()\n",
    "optimizer = optim.Adam(model.parameters(), lr=0.001)\n"
   ]
  }
 ],
 "metadata": {
  "kernelspec": {
   "display_name": ".venv",
   "language": "python",
   "name": "python3"
  },
  "language_info": {
   "codemirror_mode": {
    "name": "ipython",
    "version": 3
   },
   "file_extension": ".py",
   "mimetype": "text/x-python",
   "name": "python",
   "nbconvert_exporter": "python",
   "pygments_lexer": "ipython3",
   "version": "3.12.7"
  }
 },
 "nbformat": 4,
 "nbformat_minor": 2
}
