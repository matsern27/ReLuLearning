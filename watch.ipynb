{
 "cells": [
  {
   "cell_type": "code",
   "execution_count": 1,
   "metadata": {},
   "outputs": [],
   "source": [
    "import polars as pl\n",
    "import seaborn as sns\n",
    "import matplotlib.pyplot as plt\n"
   ]
  },
  {
   "cell_type": "code",
   "execution_count": 24,
   "metadata": {},
   "outputs": [
    {
     "data": {
      "text/plain": [
       "6607"
      ]
     },
     "metadata": {},
     "output_type": "display_data"
    },
    {
     "data": {
      "text/html": [
       "<div><style>\n",
       ".dataframe > thead > tr,\n",
       ".dataframe > tbody > tr {\n",
       "  text-align: right;\n",
       "  white-space: pre-wrap;\n",
       "}\n",
       "</style>\n",
       "<small>shape: (5, 20)</small><table border=\"1\" class=\"dataframe\"><thead><tr><th>Hours_Studied</th><th>Attendance</th><th>Parental_Involvement</th><th>Access_to_Resources</th><th>Extracurricular_Activities</th><th>Sleep_Hours</th><th>Previous_Scores</th><th>Motivation_Level</th><th>Internet_Access</th><th>Tutoring_Sessions</th><th>Family_Income</th><th>Teacher_Quality</th><th>School_Type</th><th>Peer_Influence</th><th>Physical_Activity</th><th>Learning_Disabilities</th><th>Parental_Education_Level</th><th>Distance_from_Home</th><th>Gender</th><th>Exam_Score</th></tr><tr><td>i64</td><td>i64</td><td>str</td><td>str</td><td>str</td><td>i64</td><td>i64</td><td>str</td><td>str</td><td>i64</td><td>str</td><td>str</td><td>str</td><td>str</td><td>i64</td><td>str</td><td>str</td><td>str</td><td>str</td><td>i64</td></tr></thead><tbody><tr><td>23</td><td>84</td><td>&quot;Low&quot;</td><td>&quot;High&quot;</td><td>&quot;No&quot;</td><td>7</td><td>73</td><td>&quot;Low&quot;</td><td>&quot;Yes&quot;</td><td>0</td><td>&quot;Low&quot;</td><td>&quot;Medium&quot;</td><td>&quot;Public&quot;</td><td>&quot;Positive&quot;</td><td>3</td><td>&quot;No&quot;</td><td>&quot;High School&quot;</td><td>&quot;Near&quot;</td><td>&quot;Male&quot;</td><td>67</td></tr><tr><td>19</td><td>64</td><td>&quot;Low&quot;</td><td>&quot;Medium&quot;</td><td>&quot;No&quot;</td><td>8</td><td>59</td><td>&quot;Low&quot;</td><td>&quot;Yes&quot;</td><td>2</td><td>&quot;Medium&quot;</td><td>&quot;Medium&quot;</td><td>&quot;Public&quot;</td><td>&quot;Negative&quot;</td><td>4</td><td>&quot;No&quot;</td><td>&quot;College&quot;</td><td>&quot;Moderate&quot;</td><td>&quot;Female&quot;</td><td>61</td></tr><tr><td>24</td><td>98</td><td>&quot;Medium&quot;</td><td>&quot;Medium&quot;</td><td>&quot;Yes&quot;</td><td>7</td><td>91</td><td>&quot;Medium&quot;</td><td>&quot;Yes&quot;</td><td>2</td><td>&quot;Medium&quot;</td><td>&quot;Medium&quot;</td><td>&quot;Public&quot;</td><td>&quot;Neutral&quot;</td><td>4</td><td>&quot;No&quot;</td><td>&quot;Postgraduate&quot;</td><td>&quot;Near&quot;</td><td>&quot;Male&quot;</td><td>74</td></tr><tr><td>29</td><td>89</td><td>&quot;Low&quot;</td><td>&quot;Medium&quot;</td><td>&quot;Yes&quot;</td><td>8</td><td>98</td><td>&quot;Medium&quot;</td><td>&quot;Yes&quot;</td><td>1</td><td>&quot;Medium&quot;</td><td>&quot;Medium&quot;</td><td>&quot;Public&quot;</td><td>&quot;Negative&quot;</td><td>4</td><td>&quot;No&quot;</td><td>&quot;High School&quot;</td><td>&quot;Moderate&quot;</td><td>&quot;Male&quot;</td><td>71</td></tr><tr><td>19</td><td>92</td><td>&quot;Medium&quot;</td><td>&quot;Medium&quot;</td><td>&quot;Yes&quot;</td><td>6</td><td>65</td><td>&quot;Medium&quot;</td><td>&quot;Yes&quot;</td><td>3</td><td>&quot;Medium&quot;</td><td>&quot;High&quot;</td><td>&quot;Public&quot;</td><td>&quot;Neutral&quot;</td><td>4</td><td>&quot;No&quot;</td><td>&quot;College&quot;</td><td>&quot;Near&quot;</td><td>&quot;Female&quot;</td><td>70</td></tr></tbody></table></div>"
      ],
      "text/plain": [
       "shape: (5, 20)\n",
       "┌────────────┬────────────┬───────────┬───────────┬───┬───────────┬───────────┬────────┬───────────┐\n",
       "│ Hours_Stud ┆ Attendance ┆ Parental_ ┆ Access_to ┆ … ┆ Parental_ ┆ Distance_ ┆ Gender ┆ Exam_Scor │\n",
       "│ ied        ┆ ---        ┆ Involveme ┆ _Resource ┆   ┆ Education ┆ from_Home ┆ ---    ┆ e         │\n",
       "│ ---        ┆ i64        ┆ nt        ┆ s         ┆   ┆ _Level    ┆ ---       ┆ str    ┆ ---       │\n",
       "│ i64        ┆            ┆ ---       ┆ ---       ┆   ┆ ---       ┆ str       ┆        ┆ i64       │\n",
       "│            ┆            ┆ str       ┆ str       ┆   ┆ str       ┆           ┆        ┆           │\n",
       "╞════════════╪════════════╪═══════════╪═══════════╪═══╪═══════════╪═══════════╪════════╪═══════════╡\n",
       "│ 23         ┆ 84         ┆ Low       ┆ High      ┆ … ┆ High      ┆ Near      ┆ Male   ┆ 67        │\n",
       "│            ┆            ┆           ┆           ┆   ┆ School    ┆           ┆        ┆           │\n",
       "│ 19         ┆ 64         ┆ Low       ┆ Medium    ┆ … ┆ College   ┆ Moderate  ┆ Female ┆ 61        │\n",
       "│ 24         ┆ 98         ┆ Medium    ┆ Medium    ┆ … ┆ Postgradu ┆ Near      ┆ Male   ┆ 74        │\n",
       "│            ┆            ┆           ┆           ┆   ┆ ate       ┆           ┆        ┆           │\n",
       "│ 29         ┆ 89         ┆ Low       ┆ Medium    ┆ … ┆ High      ┆ Moderate  ┆ Male   ┆ 71        │\n",
       "│            ┆            ┆           ┆           ┆   ┆ School    ┆           ┆        ┆           │\n",
       "│ 19         ┆ 92         ┆ Medium    ┆ Medium    ┆ … ┆ College   ┆ Near      ┆ Female ┆ 70        │\n",
       "└────────────┴────────────┴───────────┴───────────┴───┴───────────┴───────────┴────────┴───────────┘"
      ]
     },
     "metadata": {},
     "output_type": "display_data"
    }
   ],
   "source": [
    "df = pl.read_csv('data/StudentPerformanceFactors.csv')\n",
    "\n",
    "display(len(df))\n",
    "display(df.head())\n",
    "df = df.with_columns(\n",
    "    pl.when(pl.col(\"Parental_Involvement\") == \"High\").then(1)\n",
    "    .when(pl.col(\"Parental_Involvement\") == \"Medium\").then(0.5)\n",
    "    .when(pl.col(\"Parental_Involvement\") == \"Low\").then(0)\n",
    "    .otherwise(None)  \n",
    "    .alias(\"Parental_Involvement\") )\n",
    "\n"
   ]
  },
  {
   "cell_type": "markdown",
   "metadata": {},
   "source": [
    "### parent_Education_Level, techer_Quality, Family_Income, Motivation_Level, Extracurricular_activities, Parental_involvement\n",
    "\n"
   ]
  },
  {
   "cell_type": "code",
   "execution_count": 16,
   "metadata": {},
   "outputs": [
    {
     "name": "stdout",
     "output_type": "stream",
     "text": [
      "Parental_Involvement ['High', 'Low', 'Medium']\n",
      "Teacher_Quality ['Medium', 'Low', None, 'High']\n",
      "Family_Income ['Low', 'High', 'Medium']\n",
      "Motivation_Level ['Medium', 'High', 'Low']\n",
      "Parental_Education_Level [None, 'High School', 'College', 'Postgraduate']\n",
      "Attendance [60, 61, 62, 63, 64, 65, 66, 67, 68, 69, 70, 71, 72, 73, 74, 75, 76, 77, 78, 79, 80, 81, 82, 83, 84, 85, 86, 87, 88, 89, 90, 91, 92, 93, 94, 95, 96, 97, 98, 99, 100]\n",
      "Hours_Studied [1, 2, 3, 4, 5, 6, 7, 8, 9, 10, 11, 12, 13, 14, 15, 16, 17, 18, 19, 20, 21, 22, 23, 24, 25, 26, 27, 28, 29, 30, 31, 32, 33, 34, 35, 36, 37, 38, 39, 43, 44]\n",
      "Learning_Disabilities ['Yes', 'No']\n"
     ]
    }
   ],
   "source": [
    "looking = ['Parental_Involvement', 'Teacher_Quality','Family_Income', 'Motivation_Level', 'Parental_Education_Level', 'Attendance', 'Hours_Studied', 'Learning_Disabilities']\n",
    "\n",
    "for colum in looking:\n",
    "    print(colum,list(df[colum].unique()))"
   ]
  },
  {
   "cell_type": "code",
   "execution_count": 31,
   "metadata": {},
   "outputs": [
    {
     "name": "stdout",
     "output_type": "stream",
     "text": [
      "shape: (1, 1)\n",
      "┌────────────┐\n",
      "│ Exam_Score │\n",
      "│ ---        │\n",
      "│ f64        │\n",
      "╞════════════╡\n",
      "│ 0.157114   │\n",
      "└────────────┘\n",
      "shape: (1, 1)\n",
      "┌────────────┐\n",
      "│ Exam_Score │\n",
      "│ ---        │\n",
      "│ f64        │\n",
      "╞════════════╡\n",
      "│ 0.445455   │\n",
      "└────────────┘\n",
      "shape: (1, 1)\n",
      "┌────────────┐\n",
      "│ Exam_Score │\n",
      "│ ---        │\n",
      "│ f64        │\n",
      "╞════════════╡\n",
      "│ 0.581072   │\n",
      "└────────────┘\n"
     ]
    },
    {
     "data": {
      "text/html": [
       "<div><style>\n",
       ".dataframe > thead > tr,\n",
       ".dataframe > tbody > tr {\n",
       "  text-align: right;\n",
       "  white-space: pre-wrap;\n",
       "}\n",
       "</style>\n",
       "<small>shape: (1, 1)</small><table border=\"1\" class=\"dataframe\"><thead><tr><th>Exam_Score</th></tr><tr><td>f64</td></tr></thead><tbody><tr><td>0.175079</td></tr></tbody></table></div>"
      ],
      "text/plain": [
       "shape: (1, 1)\n",
       "┌────────────┐\n",
       "│ Exam_Score │\n",
       "│ ---        │\n",
       "│ f64        │\n",
       "╞════════════╡\n",
       "│ 0.175079   │\n",
       "└────────────┘"
      ]
     },
     "metadata": {},
     "output_type": "display_data"
    }
   ],
   "source": [
    "print(df.select(pl.corr('Exam_Score', 'Parental_Involvement')))\n",
    "print(df.select(pl.corr('Exam_Score', 'Hours_Studied')))\n",
    "print(df.select(pl.corr('Exam_Score', 'Attendance')))\n",
    "display(df.select(pl.corr('Exam_Score', 'Previous_Scores')))"
   ]
  }
 ],
 "metadata": {
  "kernelspec": {
   "display_name": ".venv",
   "language": "python",
   "name": "python3"
  },
  "language_info": {
   "codemirror_mode": {
    "name": "ipython",
    "version": 3
   },
   "file_extension": ".py",
   "mimetype": "text/x-python",
   "name": "python",
   "nbconvert_exporter": "python",
   "pygments_lexer": "ipython3",
   "version": "3.12.7"
  }
 },
 "nbformat": 4,
 "nbformat_minor": 2
}
