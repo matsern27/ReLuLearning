{
 "cells": [
  {
   "cell_type": "code",
   "execution_count": 1,
   "metadata": {},
   "outputs": [],
   "source": [
    "import polars as pl\n",
    "import seaborn as sns\n",
    "import matplotlib.pyplot as plt\n"
   ]
  },
  {
   "cell_type": "code",
   "execution_count": 2,
   "metadata": {},
   "outputs": [
    {
     "data": {
      "text/plain": [
       "6607"
      ]
     },
     "metadata": {},
     "output_type": "display_data"
    },
    {
     "name": "stderr",
     "output_type": "stream",
     "text": [
      "/tmp/ipykernel_50618/1670508475.py:15: UserWarning: Comparisons with None always result in null. Consider using `.is_null()` or `.is_not_null()`.\n",
      "  df = df.with_columns(pl.when(pl.col('Parental_Education_Level') == None).then(0).when(pl.col('Parental_Education_Level') == 'College').then(0.5).otherwise(1).alias('Parental_Education_Level'))\n"
     ]
    },
    {
     "data": {
      "text/html": [
       "<div><style>\n",
       ".dataframe > thead > tr,\n",
       ".dataframe > tbody > tr {\n",
       "  text-align: right;\n",
       "  white-space: pre-wrap;\n",
       "}\n",
       "</style>\n",
       "<small>shape: (5, 20)</small><table border=\"1\" class=\"dataframe\"><thead><tr><th>Hours_Studied</th><th>Attendance</th><th>Parental_Involvement</th><th>Access_to_Resources</th><th>Extracurricular_Activities</th><th>Sleep_Hours</th><th>Previous_Scores</th><th>Motivation_Level</th><th>Internet_Access</th><th>Tutoring_Sessions</th><th>Family_Income</th><th>Teacher_Quality</th><th>School_Type</th><th>Peer_Influence</th><th>Physical_Activity</th><th>Learning_Disabilities</th><th>Parental_Education_Level</th><th>Distance_from_Home</th><th>Gender</th><th>Exam_Score</th></tr><tr><td>i64</td><td>i64</td><td>f64</td><td>f64</td><td>i32</td><td>i64</td><td>i64</td><td>f64</td><td>i32</td><td>i64</td><td>f64</td><td>f64</td><td>i32</td><td>i32</td><td>i64</td><td>i32</td><td>f64</td><td>f64</td><td>i32</td><td>i64</td></tr></thead><tbody><tr><td>23</td><td>84</td><td>0.0</td><td>1.0</td><td>0</td><td>7</td><td>73</td><td>0.0</td><td>1</td><td>0</td><td>0.0</td><td>0.5</td><td>0</td><td>1</td><td>3</td><td>0</td><td>1.0</td><td>1.0</td><td>0</td><td>67</td></tr><tr><td>19</td><td>64</td><td>0.0</td><td>0.5</td><td>0</td><td>8</td><td>59</td><td>0.0</td><td>1</td><td>2</td><td>0.5</td><td>0.5</td><td>0</td><td>0</td><td>4</td><td>0</td><td>0.5</td><td>0.5</td><td>1</td><td>61</td></tr><tr><td>24</td><td>98</td><td>0.5</td><td>0.5</td><td>0</td><td>7</td><td>91</td><td>0.5</td><td>1</td><td>2</td><td>0.5</td><td>0.5</td><td>0</td><td>0</td><td>4</td><td>0</td><td>1.0</td><td>1.0</td><td>0</td><td>74</td></tr><tr><td>29</td><td>89</td><td>0.0</td><td>0.5</td><td>0</td><td>8</td><td>98</td><td>0.5</td><td>1</td><td>1</td><td>0.5</td><td>0.5</td><td>0</td><td>0</td><td>4</td><td>0</td><td>1.0</td><td>0.5</td><td>0</td><td>71</td></tr><tr><td>19</td><td>92</td><td>0.5</td><td>0.5</td><td>0</td><td>6</td><td>65</td><td>0.5</td><td>1</td><td>3</td><td>0.5</td><td>1.0</td><td>0</td><td>0</td><td>4</td><td>0</td><td>0.5</td><td>1.0</td><td>1</td><td>70</td></tr></tbody></table></div>"
      ],
      "text/plain": [
       "shape: (5, 20)\n",
       "┌────────────┬────────────┬───────────┬───────────┬───┬───────────┬───────────┬────────┬───────────┐\n",
       "│ Hours_Stud ┆ Attendance ┆ Parental_ ┆ Access_to ┆ … ┆ Parental_ ┆ Distance_ ┆ Gender ┆ Exam_Scor │\n",
       "│ ied        ┆ ---        ┆ Involveme ┆ _Resource ┆   ┆ Education ┆ from_Home ┆ ---    ┆ e         │\n",
       "│ ---        ┆ i64        ┆ nt        ┆ s         ┆   ┆ _Level    ┆ ---       ┆ i32    ┆ ---       │\n",
       "│ i64        ┆            ┆ ---       ┆ ---       ┆   ┆ ---       ┆ f64       ┆        ┆ i64       │\n",
       "│            ┆            ┆ f64       ┆ f64       ┆   ┆ f64       ┆           ┆        ┆           │\n",
       "╞════════════╪════════════╪═══════════╪═══════════╪═══╪═══════════╪═══════════╪════════╪═══════════╡\n",
       "│ 23         ┆ 84         ┆ 0.0       ┆ 1.0       ┆ … ┆ 1.0       ┆ 1.0       ┆ 0      ┆ 67        │\n",
       "│ 19         ┆ 64         ┆ 0.0       ┆ 0.5       ┆ … ┆ 0.5       ┆ 0.5       ┆ 1      ┆ 61        │\n",
       "│ 24         ┆ 98         ┆ 0.5       ┆ 0.5       ┆ … ┆ 1.0       ┆ 1.0       ┆ 0      ┆ 74        │\n",
       "│ 29         ┆ 89         ┆ 0.0       ┆ 0.5       ┆ … ┆ 1.0       ┆ 0.5       ┆ 0      ┆ 71        │\n",
       "│ 19         ┆ 92         ┆ 0.5       ┆ 0.5       ┆ … ┆ 0.5       ┆ 1.0       ┆ 1      ┆ 70        │\n",
       "└────────────┴────────────┴───────────┴───────────┴───┴───────────┴───────────┴────────┴───────────┘"
      ]
     },
     "execution_count": 2,
     "metadata": {},
     "output_type": "execute_result"
    }
   ],
   "source": [
    "df = pl.read_csv('data/StudentPerformanceFactors.csv')\n",
    "\n",
    "display(len(df))\n",
    "df = df.with_columns(\n",
    "    pl.when(pl.col(\"Parental_Involvement\") == \"High\").then(1)\n",
    "    .when(pl.col(\"Parental_Involvement\") == \"Medium\").then(0.5)\n",
    "    .when(pl.col(\"Parental_Involvement\") == \"Low\").then(0)\n",
    "    .otherwise(None)  \n",
    "    .alias(\"Parental_Involvement\") )\n",
    "\n",
    "df = df.with_columns(pl.when(pl.col('Learning_Disabilities') == 'yes').then(1).otherwise(0).alias('Learning_Disabilities'))\n",
    "df = df.with_columns(pl.when(pl.col('Family_Income') == 'Low').then(0).when(pl.col('Family_Income') == 'High').then(1).otherwise(0.5).alias('Family_Income'))\n",
    "df = df.with_columns(pl.when(pl.col('Motivation_Level') == 'Low').then(0).when(pl.col('Motivation_Level') == 'High').then(1).otherwise(0.5).alias('Motivation_Level'))\n",
    "\n",
    "df = df.with_columns(pl.when(pl.col('Parental_Education_Level') == None).then(0).when(pl.col('Parental_Education_Level') == 'College').then(0.5).otherwise(1).alias('Parental_Education_Level'))\n",
    "df = df.with_columns(pl.when(pl.col('Gender') == 'Male').then(0).otherwise(1).alias('Gender'))\n",
    "df = df.with_columns(pl.when(pl.col('School_Type') == 'Public').then(0).otherwise(1).alias('School_Type'))\n",
    "df = df.with_columns(pl.when(pl.col('Teacher_Quality') == 'Medium').then(0.5).when(pl.col('Teacher_Quality') == \"High\").then(1).otherwise(0).alias('Teacher_Quality'))\n",
    "df = df.with_columns(pl.when(pl.col('Extracurricular_Activities') == 'yes').then(1).otherwise(0).alias('Extracurricular_Activities'))\n",
    "df = df.with_columns(pl.when(pl.col('Access_to_Resources') == 'Medium').then(0.5).when(pl.col('Access_to_Resources') == \"High\").then(1).otherwise(0).alias('Access_to_Resources'))\n",
    "df = df.with_columns(pl.when(pl.col('Peer_Influence') == 'Positive').then(1).otherwise(0).alias('Peer_Influence'))\n",
    "df = df.with_columns(pl.when(pl.col('Internet_Access') == 'Yes').then(1).otherwise(0).alias('Internet_Access'))\n",
    "df = df.with_columns(pl.when(pl.col('Distance_from_Home') == 'Near').then(1).when(pl.col('Distance_from_Home') == 'Moderate').then(0.5).otherwise(0).alias('Distance_from_Home'))\n",
    "df = df.filter(pl.col('Exam_Score') <= 75)\n",
    "df.head()\n"
   ]
  },
  {
   "cell_type": "markdown",
   "metadata": {},
   "source": [
    "### parent_Education_Level, techer_Quality, Family_Income, Motivation_Level, Extracurricular_activities, Parental_involvement\n",
    "\n"
   ]
  },
  {
   "cell_type": "code",
   "execution_count": 3,
   "metadata": {},
   "outputs": [
    {
     "data": {
      "text/html": [
       "<div><style>\n",
       ".dataframe > thead > tr,\n",
       ".dataframe > tbody > tr {\n",
       "  text-align: right;\n",
       "  white-space: pre-wrap;\n",
       "}\n",
       "</style>\n",
       "<small>shape: (10,)</small><table border=\"1\" class=\"dataframe\"><thead><tr><th>Exam_Score</th></tr><tr><td>i64</td></tr></thead><tbody><tr><td>67</td></tr><tr><td>61</td></tr><tr><td>74</td></tr><tr><td>71</td></tr><tr><td>70</td></tr><tr><td>71</td></tr><tr><td>67</td></tr><tr><td>66</td></tr><tr><td>69</td></tr><tr><td>72</td></tr></tbody></table></div>"
      ],
      "text/plain": [
       "shape: (10,)\n",
       "Series: 'Exam_Score' [i64]\n",
       "[\n",
       "\t67\n",
       "\t61\n",
       "\t74\n",
       "\t71\n",
       "\t70\n",
       "\t71\n",
       "\t67\n",
       "\t66\n",
       "\t69\n",
       "\t72\n",
       "]"
      ]
     },
     "metadata": {},
     "output_type": "display_data"
    },
    {
     "data": {
      "text/html": [
       "<div><style>\n",
       ".dataframe > thead > tr,\n",
       ".dataframe > tbody > tr {\n",
       "  text-align: right;\n",
       "  white-space: pre-wrap;\n",
       "}\n",
       "</style>\n",
       "<small>shape: (5, 19)</small><table border=\"1\" class=\"dataframe\"><thead><tr><th>Hours_Studied</th><th>Attendance</th><th>Parental_Involvement</th><th>Access_to_Resources</th><th>Extracurricular_Activities</th><th>Sleep_Hours</th><th>Previous_Scores</th><th>Motivation_Level</th><th>Internet_Access</th><th>Tutoring_Sessions</th><th>Family_Income</th><th>Teacher_Quality</th><th>School_Type</th><th>Peer_Influence</th><th>Physical_Activity</th><th>Learning_Disabilities</th><th>Parental_Education_Level</th><th>Distance_from_Home</th><th>Gender</th></tr><tr><td>i64</td><td>i64</td><td>f64</td><td>f64</td><td>i32</td><td>i64</td><td>i64</td><td>f64</td><td>i32</td><td>i64</td><td>f64</td><td>f64</td><td>i32</td><td>i32</td><td>i64</td><td>i32</td><td>f64</td><td>f64</td><td>i32</td></tr></thead><tbody><tr><td>23</td><td>84</td><td>0.0</td><td>1.0</td><td>0</td><td>7</td><td>73</td><td>0.0</td><td>1</td><td>0</td><td>0.0</td><td>0.5</td><td>0</td><td>1</td><td>3</td><td>0</td><td>1.0</td><td>1.0</td><td>0</td></tr><tr><td>19</td><td>64</td><td>0.0</td><td>0.5</td><td>0</td><td>8</td><td>59</td><td>0.0</td><td>1</td><td>2</td><td>0.5</td><td>0.5</td><td>0</td><td>0</td><td>4</td><td>0</td><td>0.5</td><td>0.5</td><td>1</td></tr><tr><td>24</td><td>98</td><td>0.5</td><td>0.5</td><td>0</td><td>7</td><td>91</td><td>0.5</td><td>1</td><td>2</td><td>0.5</td><td>0.5</td><td>0</td><td>0</td><td>4</td><td>0</td><td>1.0</td><td>1.0</td><td>0</td></tr><tr><td>29</td><td>89</td><td>0.0</td><td>0.5</td><td>0</td><td>8</td><td>98</td><td>0.5</td><td>1</td><td>1</td><td>0.5</td><td>0.5</td><td>0</td><td>0</td><td>4</td><td>0</td><td>1.0</td><td>0.5</td><td>0</td></tr><tr><td>19</td><td>92</td><td>0.5</td><td>0.5</td><td>0</td><td>6</td><td>65</td><td>0.5</td><td>1</td><td>3</td><td>0.5</td><td>1.0</td><td>0</td><td>0</td><td>4</td><td>0</td><td>0.5</td><td>1.0</td><td>1</td></tr></tbody></table></div>"
      ],
      "text/plain": [
       "shape: (5, 19)\n",
       "┌────────────┬────────────┬───────────┬───────────┬───┬───────────┬───────────┬───────────┬────────┐\n",
       "│ Hours_Stud ┆ Attendance ┆ Parental_ ┆ Access_to ┆ … ┆ Learning_ ┆ Parental_ ┆ Distance_ ┆ Gender │\n",
       "│ ied        ┆ ---        ┆ Involveme ┆ _Resource ┆   ┆ Disabilit ┆ Education ┆ from_Home ┆ ---    │\n",
       "│ ---        ┆ i64        ┆ nt        ┆ s         ┆   ┆ ies       ┆ _Level    ┆ ---       ┆ i32    │\n",
       "│ i64        ┆            ┆ ---       ┆ ---       ┆   ┆ ---       ┆ ---       ┆ f64       ┆        │\n",
       "│            ┆            ┆ f64       ┆ f64       ┆   ┆ i32       ┆ f64       ┆           ┆        │\n",
       "╞════════════╪════════════╪═══════════╪═══════════╪═══╪═══════════╪═══════════╪═══════════╪════════╡\n",
       "│ 23         ┆ 84         ┆ 0.0       ┆ 1.0       ┆ … ┆ 0         ┆ 1.0       ┆ 1.0       ┆ 0      │\n",
       "│ 19         ┆ 64         ┆ 0.0       ┆ 0.5       ┆ … ┆ 0         ┆ 0.5       ┆ 0.5       ┆ 1      │\n",
       "│ 24         ┆ 98         ┆ 0.5       ┆ 0.5       ┆ … ┆ 0         ┆ 1.0       ┆ 1.0       ┆ 0      │\n",
       "│ 29         ┆ 89         ┆ 0.0       ┆ 0.5       ┆ … ┆ 0         ┆ 1.0       ┆ 0.5       ┆ 0      │\n",
       "│ 19         ┆ 92         ┆ 0.5       ┆ 0.5       ┆ … ┆ 0         ┆ 0.5       ┆ 1.0       ┆ 1      │\n",
       "└────────────┴────────────┴───────────┴───────────┴───┴───────────┴───────────┴───────────┴────────┘"
      ]
     },
     "metadata": {},
     "output_type": "display_data"
    }
   ],
   "source": [
    "Y = df['Exam_Score']\n",
    "X = df.drop(pl.col('Exam_Score'))\n",
    "display(Y.head())\n",
    "display(X.head())"
   ]
  },
  {
   "cell_type": "code",
   "execution_count": 4,
   "metadata": {},
   "outputs": [
    {
     "name": "stdout",
     "output_type": "stream",
     "text": [
      "<class 'numpy.ndarray'>\n",
      "<class 'numpy.ndarray'>\n",
      "<class 'numpy.ndarray'>\n",
      "<class 'numpy.ndarray'>\n",
      "<class 'numpy.ndarray'>\n",
      "<class 'numpy.ndarray'>\n",
      "<class 'numpy.ndarray'>\n",
      "<class 'numpy.ndarray'>\n",
      "<class 'numpy.ndarray'>\n",
      "<class 'numpy.ndarray'>\n",
      "<class 'numpy.ndarray'>\n",
      "<class 'numpy.ndarray'>\n",
      "<class 'numpy.ndarray'>\n",
      "<class 'numpy.ndarray'>\n",
      "<class 'numpy.ndarray'>\n",
      "<class 'numpy.ndarray'>\n",
      "<class 'numpy.ndarray'>\n",
      "<class 'numpy.ndarray'>\n",
      "<class 'numpy.ndarray'>\n"
     ]
    },
    {
     "name": "stderr",
     "output_type": "stream",
     "text": [
      "/tmp/ipykernel_50618/3543985388.py:10: DeprecationWarning: Conversion of an array with ndim > 0 to a scalar is deprecated, and will error in future. Ensure you extract a single element from your array before performing this operation. (Deprecated NumPy 1.25.)\n",
      "  correaltion_Exam[i] = df.select(pl.corr('Exam_Score', columns_[i])).to_numpy().astype('float')\n"
     ]
    },
    {
     "data": {
      "text/plain": [
       "array([[ 0.51143727],\n",
       "       [ 0.67589753],\n",
       "       [ 0.17551369],\n",
       "       [ 0.18985413],\n",
       "       [        nan],\n",
       "       [-0.01257841],\n",
       "       [ 0.20142685],\n",
       "       [ 0.09643025],\n",
       "       [ 0.06766566],\n",
       "       [ 0.17400962],\n",
       "       [ 0.09904546],\n",
       "       [ 0.08346416],\n",
       "       [ 0.01188296],\n",
       "       [ 0.09264805],\n",
       "       [ 0.04386271],\n",
       "       [        nan],\n",
       "       [-0.01733675],\n",
       "       [ 0.10885235],\n",
       "       [-0.00736142]])"
      ]
     },
     "execution_count": 4,
     "metadata": {},
     "output_type": "execute_result"
    }
   ],
   "source": [
    "import numpy as np\n",
    "\n",
    "\n",
    "columns_ = X.columns\n",
    "correaltion_Exam = np.ones(len(columns_))\n",
    "\n",
    "\n",
    "for i in range(len(columns_)):\n",
    "    print(type(df.select(pl.corr('Exam_Score', columns_[i])).to_numpy().astype('float')))\n",
    "    correaltion_Exam[i] = df.select(pl.corr('Exam_Score', columns_[i])).to_numpy().astype('float')\n",
    "correaltion_Exam.reshape(-1,1)\n"
   ]
  },
  {
   "cell_type": "code",
   "execution_count": 5,
   "metadata": {},
   "outputs": [
    {
     "data": {
      "text/plain": [
       "<Axes: >"
      ]
     },
     "execution_count": 5,
     "metadata": {},
     "output_type": "execute_result"
    },
    {
     "data": {
      "image/png": "[encoded data removed]",
      "text/plain": [
       "<Figure size 640x480 with 2 Axes>"
      ]
     },
     "metadata": {},
     "output_type": "display_data"
    }
   ],
   "source": [
    "\n",
    "sns.heatmap(correaltion_Exam.reshape(19,-1), annot= True)"
   ]
  },
  {
   "cell_type": "code",
   "execution_count": 16,
   "metadata": {},
   "outputs": [],
   "source": [
    "from sklearn.model_selection import train_test_split\n",
    "from sklearn.linear_model import LinearRegression\n",
    "from sklearn.metrics import mean_absolute_error, r2_score\n",
    "\n",
    "X_train, X_test, Y_train, Y_test = train_test_split(X, Y, test_size=0.2, random_state=42)"
   ]
  },
  {
   "cell_type": "code",
   "execution_count": 17,
   "metadata": {},
   "outputs": [],
   "source": [
    "model_linearregression = LinearRegression()"
   ]
  },
  {
   "cell_type": "code",
   "execution_count": 18,
   "metadata": {},
   "outputs": [
    {
     "name": "stdout",
     "output_type": "stream",
     "text": [
      "[65.62721878 68.49843957 65.79880997 63.830744   65.07163188 65.91266015\n",
      " 66.03674068 68.07788945 69.26614114 64.76979398 66.06305144 65.38908058\n",
      " 66.19159186 71.32870107 70.58324406 63.53866607 71.06315464 67.57901945\n",
      " 65.15411652 63.93369863 63.46481667 72.46102269 66.99474636 70.9632254\n",
      " 69.37623479 69.84936432 63.6453119  68.28037789 73.55676767 71.28616006\n",
      " 63.48608793 64.91550612 72.4632636  71.91756683 69.7362541  62.88197593\n",
      " 70.38082236 63.61508485 62.63875534 67.0369891  68.75661879 66.84968162\n",
      " 71.76280794 64.45098413 73.11724365 73.45863282 66.41575731 61.89502086\n",
      " 67.4507698  65.77367062 64.26205501 63.92755008 68.0932401  69.53282544\n",
      " 66.12483197 69.0881287  68.67119858 64.54831963 67.83865802 63.22886983\n",
      " 67.00032594 61.9640428  65.48624636 73.23788676 69.58840271 66.38926302\n",
      " 68.78589338 64.77463801 64.28145193 69.98993621 62.91807512 69.16409865\n",
      " 69.20065764 68.87463015 67.31134684 74.65577267 71.64038677 64.13060231\n",
      " 66.93480719 71.39244989 70.03925313 68.62337316 63.40378312 70.80636564\n",
      " 68.20838981 66.41914336 65.86319036 69.0917196  62.53476189 65.40100922\n",
      " 61.94567339 68.05524731 62.1324969  75.10523427 66.00216791 66.66521756\n",
      " 67.07199919 69.28281915 73.15374985 63.19770198]\n",
      "0.956059060506855\n"
     ]
    }
   ],
   "source": [
    "model_linearregression.fit(X_train,Y_train)\n",
    "\n",
    "Y_pred = model_linearregression.predict(X_test)\n",
    "print(r2_score(Y_pred, Y_test))"
   ]
  },
  {
   "cell_type": "code",
   "execution_count": 9,
   "metadata": {},
   "outputs": [],
   "source": [
    "import random \n"
   ]
  },
  {
   "cell_type": "code",
   "execution_count": 12,
   "metadata": {},
   "outputs": [
    {
     "name": "stdout",
     "output_type": "stream",
     "text": [
      "0.5379715668538552\n",
      "0.956059060506855\n",
      "[ 2.97094442e-01  2.01061998e-01  1.97732284e+00  2.00201742e+00\n",
      "  2.22044605e-16  1.07679657e-02  4.94573574e-02  1.03302903e+00\n",
      "  9.69278078e-01  5.03680312e-01  9.71896671e-01  9.80260158e-01\n",
      "  5.68302137e-03  7.06593211e-01  2.09870843e-01 -2.22044605e-16\n",
      " -4.29020704e-01  9.52667794e-01 -1.07975557e-02]\n"
     ]
    }
   ],
   "source": [
    "print(mean_absolute_error(Y_pred, Y_test))\n",
    "print(r2_score(Y_pred, Y_test))\n",
    "print(model_linearregression.coef_)"
   ]
  },
  {
   "cell_type": "code",
   "execution_count": 11,
   "metadata": {},
   "outputs": [
    {
     "data": {
      "text/plain": [
       "(array([   2.,   26.,  117.,  435.,  872., 1430., 1476., 1166.,  712.,\n",
       "         295.]),\n",
       " array([55., 57., 59., 61., 63., 65., 67., 69., 71., 73., 75.]),\n",
       " <BarContainer object of 10 artists>)"
      ]
     },
     "execution_count": 11,
     "metadata": {},
     "output_type": "execute_result"
    },
    {
     "data": {
      "image/png": "[encoded data removed]",
      "text/plain": [
       "<Figure size 640x480 with 1 Axes>"
      ]
     },
     "metadata": {},
     "output_type": "display_data"
    }
   ],
   "source": [
    "plt.hist(Y)"
   ]
  }
 ],
 "metadata": {
  "kernelspec": {
   "display_name": ".venv",
   "language": "python",
   "name": "python3"
  },
  "language_info": {
   "codemirror_mode": {
    "name": "ipython",
    "version": 3
   },
   "file_extension": ".py",
   "mimetype": "text/x-python",
   "name": "python",
   "nbconvert_exporter": "python",
   "pygments_lexer": "ipython3",
   "version": "3.12.7"
  }
 },
 "nbformat": 4,
 "nbformat_minor": 2
}
