{
 "cells": [
  {
   "cell_type": "code",
   "execution_count": 1,
   "metadata": {},
   "outputs": [],
   "source": [
    "import polars as pl\n",
    "import seaborn as sns\n",
    "import matplotlib.pyplot as plt\n"
   ]
  },
  {
   "cell_type": "code",
   "execution_count": 2,
   "metadata": {},
   "outputs": [
    {
     "data": {
      "text/plain": [
       "6607"
      ]
     },
     "metadata": {},
     "output_type": "display_data"
    },
    {
     "name": "stderr",
     "output_type": "stream",
     "text": [
      "/tmp/ipykernel_12494/3088908621.py:15: UserWarning: Comparisons with None always result in null. Consider using `.is_null()` or `.is_not_null()`.\n",
      "  df = df.with_columns(pl.when(pl.col('Parental_Education_Level') == None).then(0).when(pl.col('Parental_Education_Level') == 'College').then(0.5).otherwise(1).alias('Parental_Education_Level'))\n"
     ]
    },
    {
     "data": {
      "text/html": [
       "<div><style>\n",
       ".dataframe > thead > tr,\n",
       ".dataframe > tbody > tr {\n",
       "  text-align: right;\n",
       "  white-space: pre-wrap;\n",
       "}\n",
       "</style>\n",
       "<small>shape: (5, 20)</small><table border=\"1\" class=\"dataframe\"><thead><tr><th>Hours_Studied</th><th>Attendance</th><th>Parental_Involvement</th><th>Access_to_Resources</th><th>Extracurricular_Activities</th><th>Sleep_Hours</th><th>Previous_Scores</th><th>Motivation_Level</th><th>Internet_Access</th><th>Tutoring_Sessions</th><th>Family_Income</th><th>Teacher_Quality</th><th>School_Type</th><th>Peer_Influence</th><th>Physical_Activity</th><th>Learning_Disabilities</th><th>Parental_Education_Level</th><th>Distance_from_Home</th><th>Gender</th><th>Exam_Score</th></tr><tr><td>i64</td><td>i64</td><td>f64</td><td>f64</td><td>i32</td><td>i64</td><td>i64</td><td>f64</td><td>i32</td><td>i64</td><td>f64</td><td>f64</td><td>i32</td><td>i32</td><td>i64</td><td>i32</td><td>f64</td><td>f64</td><td>i32</td><td>i64</td></tr></thead><tbody><tr><td>23</td><td>84</td><td>0.0</td><td>1.0</td><td>0</td><td>7</td><td>73</td><td>0.0</td><td>1</td><td>0</td><td>0.0</td><td>0.5</td><td>0</td><td>1</td><td>3</td><td>0</td><td>1.0</td><td>1.0</td><td>0</td><td>67</td></tr><tr><td>19</td><td>64</td><td>0.0</td><td>0.5</td><td>0</td><td>8</td><td>59</td><td>0.0</td><td>1</td><td>2</td><td>0.5</td><td>0.5</td><td>0</td><td>0</td><td>4</td><td>0</td><td>0.5</td><td>0.5</td><td>1</td><td>61</td></tr><tr><td>24</td><td>98</td><td>0.5</td><td>0.5</td><td>0</td><td>7</td><td>91</td><td>0.5</td><td>1</td><td>2</td><td>0.5</td><td>0.5</td><td>0</td><td>0</td><td>4</td><td>0</td><td>1.0</td><td>1.0</td><td>0</td><td>74</td></tr><tr><td>29</td><td>89</td><td>0.0</td><td>0.5</td><td>0</td><td>8</td><td>98</td><td>0.5</td><td>1</td><td>1</td><td>0.5</td><td>0.5</td><td>0</td><td>0</td><td>4</td><td>0</td><td>1.0</td><td>0.5</td><td>0</td><td>71</td></tr><tr><td>19</td><td>92</td><td>0.5</td><td>0.5</td><td>0</td><td>6</td><td>65</td><td>0.5</td><td>1</td><td>3</td><td>0.5</td><td>1.0</td><td>0</td><td>0</td><td>4</td><td>0</td><td>0.5</td><td>1.0</td><td>1</td><td>70</td></tr></tbody></table></div>"
      ],
      "text/plain": [
       "shape: (5, 20)\n",
       "┌────────────┬────────────┬───────────┬───────────┬───┬───────────┬───────────┬────────┬───────────┐\n",
       "│ Hours_Stud ┆ Attendance ┆ Parental_ ┆ Access_to ┆ … ┆ Parental_ ┆ Distance_ ┆ Gender ┆ Exam_Scor │\n",
       "│ ied        ┆ ---        ┆ Involveme ┆ _Resource ┆   ┆ Education ┆ from_Home ┆ ---    ┆ e         │\n",
       "│ ---        ┆ i64        ┆ nt        ┆ s         ┆   ┆ _Level    ┆ ---       ┆ i32    ┆ ---       │\n",
       "│ i64        ┆            ┆ ---       ┆ ---       ┆   ┆ ---       ┆ f64       ┆        ┆ i64       │\n",
       "│            ┆            ┆ f64       ┆ f64       ┆   ┆ f64       ┆           ┆        ┆           │\n",
       "╞════════════╪════════════╪═══════════╪═══════════╪═══╪═══════════╪═══════════╪════════╪═══════════╡\n",
       "│ 23         ┆ 84         ┆ 0.0       ┆ 1.0       ┆ … ┆ 1.0       ┆ 1.0       ┆ 0      ┆ 67        │\n",
       "│ 19         ┆ 64         ┆ 0.0       ┆ 0.5       ┆ … ┆ 0.5       ┆ 0.5       ┆ 1      ┆ 61        │\n",
       "│ 24         ┆ 98         ┆ 0.5       ┆ 0.5       ┆ … ┆ 1.0       ┆ 1.0       ┆ 0      ┆ 74        │\n",
       "│ 29         ┆ 89         ┆ 0.0       ┆ 0.5       ┆ … ┆ 1.0       ┆ 0.5       ┆ 0      ┆ 71        │\n",
       "│ 19         ┆ 92         ┆ 0.5       ┆ 0.5       ┆ … ┆ 0.5       ┆ 1.0       ┆ 1      ┆ 70        │\n",
       "└────────────┴────────────┴───────────┴───────────┴───┴───────────┴───────────┴────────┴───────────┘"
      ]
     },
     "execution_count": 2,
     "metadata": {},
     "output_type": "execute_result"
    }
   ],
   "source": [
    "df = pl.read_csv('data/StudentPerformanceFactors.csv')\n",
    "\n",
    "display(len(df))\n",
    "df = df.with_columns(\n",
    "    pl.when(pl.col(\"Parental_Involvement\") == \"High\").then(1)\n",
    "    .when(pl.col(\"Parental_Involvement\") == \"Medium\").then(0.5)\n",
    "    .when(pl.col(\"Parental_Involvement\") == \"Low\").then(0)\n",
    "    .otherwise(None)  \n",
    "    .alias(\"Parental_Involvement\") )\n",
    "\n",
    "df = df.with_columns(pl.when(pl.col('Learning_Disabilities') == 'yes').then(1).otherwise(0).alias('Learning_Disabilities'))\n",
    "df = df.with_columns(pl.when(pl.col('Family_Income') == 'Low').then(0).when(pl.col('Family_Income') == 'High').then(1).otherwise(0.5).alias('Family_Income'))\n",
    "df = df.with_columns(pl.when(pl.col('Motivation_Level') == 'Low').then(0).when(pl.col('Motivation_Level') == 'High').then(1).otherwise(0.5).alias('Motivation_Level'))\n",
    "\n",
    "df = df.with_columns(pl.when(pl.col('Parental_Education_Level') == None).then(0).when(pl.col('Parental_Education_Level') == 'College').then(0.5).otherwise(1).alias('Parental_Education_Level'))\n",
    "df = df.with_columns(pl.when(pl.col('Gender') == 'Male').then(0).otherwise(1).alias('Gender'))\n",
    "df = df.with_columns(pl.when(pl.col('School_Type') == 'Public').then(0).otherwise(1).alias('School_Type'))\n",
    "df = df.with_columns(pl.when(pl.col('Teacher_Quality') == 'Medium').then(0.5).when(pl.col('Teacher_Quality') == \"High\").then(1).otherwise(0).alias('Teacher_Quality'))\n",
    "df = df.with_columns(pl.when(pl.col('Extracurricular_Activities') == 'yes').then(1).otherwise(0).alias('Extracurricular_Activities'))\n",
    "df = df.with_columns(pl.when(pl.col('Access_to_Resources') == 'Medium').then(0.5).when(pl.col('Access_to_Resources') == \"High\").then(1).otherwise(0).alias('Access_to_Resources'))\n",
    "df = df.with_columns(pl.when(pl.col('Peer_Influence') == 'Positive').then(1).otherwise(0).alias('Peer_Influence'))\n",
    "df = df.with_columns(pl.when(pl.col('Internet_Access') == 'Yes').then(1).otherwise(0).alias('Internet_Access'))\n",
    "df = df.with_columns(pl.when(pl.col('Distance_from_Home') == 'Near').then(1).when(pl.col('Distance_from_Home') == 'Moderate').then(0.5).otherwise(0).alias('Distance_from_Home'))\n",
    "df.head()"
   ]
  },
  {
   "cell_type": "markdown",
   "metadata": {},
   "source": [
    "### parent_Education_Level, techer_Quality, Family_Income, Motivation_Level, Extracurricular_activities, Parental_involvement\n",
    "\n"
   ]
  },
  {
   "cell_type": "code",
   "execution_count": 3,
   "metadata": {},
   "outputs": [
    {
     "data": {
      "text/html": [
       "<div><style>\n",
       ".dataframe > thead > tr,\n",
       ".dataframe > tbody > tr {\n",
       "  text-align: right;\n",
       "  white-space: pre-wrap;\n",
       "}\n",
       "</style>\n",
       "<small>shape: (10,)</small><table border=\"1\" class=\"dataframe\"><thead><tr><th>Exam_Score</th></tr><tr><td>i64</td></tr></thead><tbody><tr><td>67</td></tr><tr><td>61</td></tr><tr><td>74</td></tr><tr><td>71</td></tr><tr><td>70</td></tr><tr><td>71</td></tr><tr><td>67</td></tr><tr><td>66</td></tr><tr><td>69</td></tr><tr><td>72</td></tr></tbody></table></div>"
      ],
      "text/plain": [
       "shape: (10,)\n",
       "Series: 'Exam_Score' [i64]\n",
       "[\n",
       "\t67\n",
       "\t61\n",
       "\t74\n",
       "\t71\n",
       "\t70\n",
       "\t71\n",
       "\t67\n",
       "\t66\n",
       "\t69\n",
       "\t72\n",
       "]"
      ]
     },
     "metadata": {},
     "output_type": "display_data"
    },
    {
     "data": {
      "text/html": [
       "<div><style>\n",
       ".dataframe > thead > tr,\n",
       ".dataframe > tbody > tr {\n",
       "  text-align: right;\n",
       "  white-space: pre-wrap;\n",
       "}\n",
       "</style>\n",
       "<small>shape: (5, 19)</small><table border=\"1\" class=\"dataframe\"><thead><tr><th>Hours_Studied</th><th>Attendance</th><th>Parental_Involvement</th><th>Access_to_Resources</th><th>Extracurricular_Activities</th><th>Sleep_Hours</th><th>Previous_Scores</th><th>Motivation_Level</th><th>Internet_Access</th><th>Tutoring_Sessions</th><th>Family_Income</th><th>Teacher_Quality</th><th>School_Type</th><th>Peer_Influence</th><th>Physical_Activity</th><th>Learning_Disabilities</th><th>Parental_Education_Level</th><th>Distance_from_Home</th><th>Gender</th></tr><tr><td>i64</td><td>i64</td><td>f64</td><td>f64</td><td>i32</td><td>i64</td><td>i64</td><td>f64</td><td>i32</td><td>i64</td><td>f64</td><td>f64</td><td>i32</td><td>i32</td><td>i64</td><td>i32</td><td>f64</td><td>f64</td><td>i32</td></tr></thead><tbody><tr><td>23</td><td>84</td><td>0.0</td><td>1.0</td><td>0</td><td>7</td><td>73</td><td>0.0</td><td>1</td><td>0</td><td>0.0</td><td>0.5</td><td>0</td><td>1</td><td>3</td><td>0</td><td>1.0</td><td>1.0</td><td>0</td></tr><tr><td>19</td><td>64</td><td>0.0</td><td>0.5</td><td>0</td><td>8</td><td>59</td><td>0.0</td><td>1</td><td>2</td><td>0.5</td><td>0.5</td><td>0</td><td>0</td><td>4</td><td>0</td><td>0.5</td><td>0.5</td><td>1</td></tr><tr><td>24</td><td>98</td><td>0.5</td><td>0.5</td><td>0</td><td>7</td><td>91</td><td>0.5</td><td>1</td><td>2</td><td>0.5</td><td>0.5</td><td>0</td><td>0</td><td>4</td><td>0</td><td>1.0</td><td>1.0</td><td>0</td></tr><tr><td>29</td><td>89</td><td>0.0</td><td>0.5</td><td>0</td><td>8</td><td>98</td><td>0.5</td><td>1</td><td>1</td><td>0.5</td><td>0.5</td><td>0</td><td>0</td><td>4</td><td>0</td><td>1.0</td><td>0.5</td><td>0</td></tr><tr><td>19</td><td>92</td><td>0.5</td><td>0.5</td><td>0</td><td>6</td><td>65</td><td>0.5</td><td>1</td><td>3</td><td>0.5</td><td>1.0</td><td>0</td><td>0</td><td>4</td><td>0</td><td>0.5</td><td>1.0</td><td>1</td></tr></tbody></table></div>"
      ],
      "text/plain": [
       "shape: (5, 19)\n",
       "┌────────────┬────────────┬───────────┬───────────┬───┬───────────┬───────────┬───────────┬────────┐\n",
       "│ Hours_Stud ┆ Attendance ┆ Parental_ ┆ Access_to ┆ … ┆ Learning_ ┆ Parental_ ┆ Distance_ ┆ Gender │\n",
       "│ ied        ┆ ---        ┆ Involveme ┆ _Resource ┆   ┆ Disabilit ┆ Education ┆ from_Home ┆ ---    │\n",
       "│ ---        ┆ i64        ┆ nt        ┆ s         ┆   ┆ ies       ┆ _Level    ┆ ---       ┆ i32    │\n",
       "│ i64        ┆            ┆ ---       ┆ ---       ┆   ┆ ---       ┆ ---       ┆ f64       ┆        │\n",
       "│            ┆            ┆ f64       ┆ f64       ┆   ┆ i32       ┆ f64       ┆           ┆        │\n",
       "╞════════════╪════════════╪═══════════╪═══════════╪═══╪═══════════╪═══════════╪═══════════╪════════╡\n",
       "│ 23         ┆ 84         ┆ 0.0       ┆ 1.0       ┆ … ┆ 0         ┆ 1.0       ┆ 1.0       ┆ 0      │\n",
       "│ 19         ┆ 64         ┆ 0.0       ┆ 0.5       ┆ … ┆ 0         ┆ 0.5       ┆ 0.5       ┆ 1      │\n",
       "│ 24         ┆ 98         ┆ 0.5       ┆ 0.5       ┆ … ┆ 0         ┆ 1.0       ┆ 1.0       ┆ 0      │\n",
       "│ 29         ┆ 89         ┆ 0.0       ┆ 0.5       ┆ … ┆ 0         ┆ 1.0       ┆ 0.5       ┆ 0      │\n",
       "│ 19         ┆ 92         ┆ 0.5       ┆ 0.5       ┆ … ┆ 0         ┆ 0.5       ┆ 1.0       ┆ 1      │\n",
       "└────────────┴────────────┴───────────┴───────────┴───┴───────────┴───────────┴───────────┴────────┘"
      ]
     },
     "metadata": {},
     "output_type": "display_data"
    }
   ],
   "source": [
    "Y = df['Exam_Score']\n",
    "X = df.drop(pl.col('Exam_Score'))\n",
    "display(Y.head())\n",
    "display(X.head())"
   ]
  },
  {
   "cell_type": "code",
   "execution_count": 4,
   "metadata": {},
   "outputs": [
    {
     "name": "stdout",
     "output_type": "stream",
     "text": [
      "<class 'numpy.ndarray'>\n",
      "<class 'numpy.ndarray'>\n",
      "<class 'numpy.ndarray'>\n",
      "<class 'numpy.ndarray'>\n",
      "<class 'numpy.ndarray'>\n",
      "<class 'numpy.ndarray'>\n",
      "<class 'numpy.ndarray'>\n",
      "<class 'numpy.ndarray'>\n",
      "<class 'numpy.ndarray'>\n",
      "<class 'numpy.ndarray'>\n",
      "<class 'numpy.ndarray'>\n",
      "<class 'numpy.ndarray'>\n",
      "<class 'numpy.ndarray'>\n",
      "<class 'numpy.ndarray'>\n",
      "<class 'numpy.ndarray'>\n",
      "<class 'numpy.ndarray'>\n",
      "<class 'numpy.ndarray'>\n",
      "<class 'numpy.ndarray'>\n",
      "<class 'numpy.ndarray'>\n"
     ]
    },
    {
     "name": "stderr",
     "output_type": "stream",
     "text": [
      "/tmp/ipykernel_12494/3543985388.py:10: DeprecationWarning: Conversion of an array with ndim > 0 to a scalar is deprecated, and will error in future. Ensure you extract a single element from your array before performing this operation. (Deprecated NumPy 1.25.)\n",
      "  correaltion_Exam[i] = df.select(pl.corr('Exam_Score', columns_[i])).to_numpy().astype('float')\n"
     ]
    },
    {
     "data": {
      "text/plain": [
       "array([[ 0.44545495],\n",
       "       [ 0.58107186],\n",
       "       [ 0.15711419],\n",
       "       [ 0.16977013],\n",
       "       [        nan],\n",
       "       [-0.01702163],\n",
       "       [ 0.17507909],\n",
       "       [ 0.08693746],\n",
       "       [ 0.05147501],\n",
       "       [ 0.15652519],\n",
       "       [ 0.09455499],\n",
       "       [ 0.07794685],\n",
       "       [ 0.00884355],\n",
       "       [ 0.08121683],\n",
       "       [ 0.02782444],\n",
       "       [        nan],\n",
       "       [-0.0135093 ],\n",
       "       [ 0.09314801],\n",
       "       [ 0.00203233]])"
      ]
     },
     "execution_count": 4,
     "metadata": {},
     "output_type": "execute_result"
    }
   ],
   "source": [
    "import numpy as np\n",
    "\n",
    "\n",
    "columns_ = X.columns\n",
    "correaltion_Exam = np.ones(len(columns_))\n",
    "\n",
    "\n",
    "for i in range(len(columns_)):\n",
    "    print(type(df.select(pl.corr('Exam_Score', columns_[i])).to_numpy().astype('float')))\n",
    "    correaltion_Exam[i] = df.select(pl.corr('Exam_Score', columns_[i])).to_numpy().astype('float')\n",
    "correaltion_Exam.reshape(-1,1)\n"
   ]
  },
  {
   "cell_type": "code",
   "execution_count": 5,
   "metadata": {},
   "outputs": [
    {
     "data": {
      "text/plain": [
       "<Axes: >"
      ]
     },
     "execution_count": 5,
     "metadata": {},
     "output_type": "execute_result"
    },
    {
     "data": {
      "image/png": "[encoded data removed]",
      "text/plain": [
       "<Figure size 640x480 with 2 Axes>"
      ]
     },
     "metadata": {},
     "output_type": "display_data"
    }
   ],
   "source": [
    "\n",
    "sns.heatmap(correaltion_Exam.reshape(19,-1), annot= True)"
   ]
  },
  {
   "cell_type": "code",
   "execution_count": 6,
   "metadata": {},
   "outputs": [],
   "source": [
    "from sklearn.model_selection import train_test_split\n",
    "from sklearn.linear_model import LinearRegression\n",
    "from sklearn.metrics import mean_absolute_error, r2_score\n",
    "\n",
    "X_train, X_test, Y_train, Y_test = train_test_split(X, Y, test_size=0.2, random_state=42)"
   ]
  },
  {
   "cell_type": "code",
   "execution_count": 7,
   "metadata": {},
   "outputs": [],
   "source": [
    "model_linearregression = LinearRegression()"
   ]
  },
  {
   "cell_type": "code",
   "execution_count": 8,
   "metadata": {},
   "outputs": [
    {
     "name": "stdout",
     "output_type": "stream",
     "text": [
      "[65.46049692 65.07295012 70.50694184 64.27539451 66.13318449 66.37843089\n",
      " 72.44780353 66.15960515 69.0149382  69.82040285 65.8063458  72.34721446\n",
      " 66.99730364 63.42938388 64.71695106 63.46898561 64.08094623 73.87962304\n",
      " 66.06457634 69.14848384 67.65979939 70.47898422 61.73569973 63.01604355\n",
      " 66.23236337 74.21438732 70.09649027 70.67062422 62.57699679 71.21902161\n",
      " 69.90312737 65.37288019 67.37176687 56.29174016 64.79978851 65.77440292\n",
      " 70.81185393 69.78214649 67.10376443 69.96276619 64.70933523 66.06466125\n",
      " 67.151662   65.32700683 63.79897006 66.77577476 64.07835068 70.20849472\n",
      " 68.74916396 73.54807142 61.14804053 66.37514163 61.99973099 69.07850441\n",
      " 69.39108379 60.74560935 63.74702143 68.09502763 66.78493098 69.96147442\n",
      " 72.03221562 73.22254126 67.14472464 66.71059742 61.35706112 64.7710477\n",
      " 74.84073472 65.77359827 67.23393006 70.81100007 62.33237318 67.06352972\n",
      " 65.08860539 69.90088405 72.26806447 64.61768639 64.98829476 67.20238194\n",
      " 64.13379451 69.83511544 62.86733598 65.26672675 73.1126126  69.82894454\n",
      " 69.3276532  60.55076548 62.62966527 70.15804575 72.96490938 66.53008884\n",
      " 68.00979962 62.74709236 70.44002864 73.02302508 64.06124254 67.46904596\n",
      " 70.59830463 68.07144645 66.81434054 67.29411674]\n",
      "0.6793698073869376\n"
     ]
    }
   ],
   "source": [
    "model_linearregression.fit(X_train,Y_train)\n",
    "\n",
    "Y_pred = model_linearregression.predict(X_test)\n",
    "print(Y_pred[:100])\n",
    "print(r2_score(Y_pred, Y_test))"
   ]
  },
  {
   "cell_type": "code",
   "execution_count": 9,
   "metadata": {},
   "outputs": [],
   "source": [
    "import random \n"
   ]
  },
  {
   "cell_type": "code",
   "execution_count": 10,
   "metadata": {},
   "outputs": [
    {
     "name": "stdout",
     "output_type": "stream",
     "text": [
      "0.6517633698629222\n"
     ]
    }
   ],
   "source": [
    "print(mean_absolute_error(Y_pred, Y_test))"
   ]
  }
 ],
 "metadata": {
  "kernelspec": {
   "display_name": ".venv",
   "language": "python",
   "name": "python3"
  },
  "language_info": {
   "codemirror_mode": {
    "name": "ipython",
    "version": 3
   },
   "file_extension": ".py",
   "mimetype": "text/x-python",
   "name": "python",
   "nbconvert_exporter": "python",
   "pygments_lexer": "ipython3",
   "version": "3.12.7"
  }
 },
 "nbformat": 4,
 "nbformat_minor": 2
}
